{
 "cells": [
  {
   "cell_type": "code",
   "execution_count": 1,
   "metadata": {},
   "outputs": [],
   "source": [
    "import tensorflow as tf\n",
    "from tensorflow import keras\n",
    "from tensorflow.keras import layers\n",
    "from tensorflow.keras.preprocessing.image import ImageDataGenerator\n",
    "import h5py\n",
    "from keras.models import load_model"
   ]
  },
  {
   "cell_type": "code",
   "execution_count": 3,
   "metadata": {},
   "outputs": [],
   "source": [
    "# Define the path to your dataset\n",
    "data_directory = 'F:\\Faysal\\WCEBleedGen'\n",
    "batch_size = 32\n",
    "image_size = (128, 128)\n",
    "num_classes = 2  # WBC and RBC\n"
   ]
  },
  {
   "cell_type": "code",
   "execution_count": 3,
   "metadata": {},
   "outputs": [],
   "source": [
    "# Create an ImageDataGenerator for data augmentation and preprocessing\n",
    "train_datagen = ImageDataGenerator(\n",
    "    rescale=1.0 / 255,          # Normalize pixel values to [0, 1]\n",
    "    validation_split=0.2,      # Split data into training and validation sets\n",
    "    rotation_range=20,         # Randomly rotate images (degrees)\n",
    "    width_shift_range=0.2,     # Randomly shift images horizontally\n",
    "    height_shift_range=0.2,    # Randomly shift images vertically\n",
    "    horizontal_flip=True,      # Randomly flip images horizontally\n",
    ")\n"
   ]
  },
  {
   "cell_type": "code",
   "execution_count": 4,
   "metadata": {},
   "outputs": [
    {
     "name": "stdout",
     "output_type": "stream",
     "text": [
      "Found 4190 images belonging to 2 classes.\n",
      "Found 1046 images belonging to 2 classes.\n"
     ]
    }
   ],
   "source": [
    "# Load and split the dataset into training and validation sets\n",
    "train_generator = train_datagen.flow_from_directory(\n",
    "    data_directory,\n",
    "    target_size=image_size,\n",
    "    batch_size=batch_size,\n",
    "    class_mode='categorical',  # Categorical classification (one-hot encoding)\n",
    "    subset='training',          # Specify 'training' or 'validation'\n",
    ")\n",
    "\n",
    "validation_generator = train_datagen.flow_from_directory(\n",
    "    data_directory,\n",
    "    target_size=image_size,\n",
    "    batch_size=batch_size,\n",
    "    class_mode='categorical',\n",
    "    subset='validation',\n",
    ")\n"
   ]
  },
  {
   "cell_type": "code",
   "execution_count": 5,
   "metadata": {},
   "outputs": [],
   "source": [
    "# Define and compile a CNN model\n",
    "model = keras.Sequential([\n",
    "    layers.Conv2D(32, (3, 3), activation='relu', input_shape=(128, 128, 3)),\n",
    "    layers.MaxPooling2D((2, 2)),\n",
    "    layers.Conv2D(64, (3, 3), activation='relu'),\n",
    "    layers.MaxPooling2D((2, 2)),\n",
    "    layers.Flatten(),\n",
    "    layers.Dense(64, activation='relu'),\n",
    "    layers.Dense(num_classes, activation='softmax')  # Softmax for multiclass classification\n",
    "])\n",
    "\n",
    "model.compile(optimizer='adam', loss='categorical_crossentropy', metrics=['accuracy'])\n"
   ]
  },
  {
   "cell_type": "code",
   "execution_count": 6,
   "metadata": {},
   "outputs": [
    {
     "name": "stdout",
     "output_type": "stream",
     "text": [
      "Epoch 1/20\n",
      "131/131 [==============================] - 45s 337ms/step - loss: 0.3885 - accuracy: 0.8332 - val_loss: 0.0555 - val_accuracy: 0.9866\n",
      "Epoch 2/20\n",
      "131/131 [==============================] - 43s 327ms/step - loss: 0.2523 - accuracy: 0.8916 - val_loss: 0.0513 - val_accuracy: 0.9828\n",
      "Epoch 3/20\n",
      "131/131 [==============================] - 44s 337ms/step - loss: 0.2420 - accuracy: 0.8947 - val_loss: 0.0571 - val_accuracy: 0.9818\n",
      "Epoch 4/20\n",
      "131/131 [==============================] - 44s 333ms/step - loss: 0.2090 - accuracy: 0.9148 - val_loss: 0.0638 - val_accuracy: 0.9790\n",
      "Epoch 5/20\n",
      "131/131 [==============================] - 43s 329ms/step - loss: 0.2093 - accuracy: 0.9155 - val_loss: 0.0319 - val_accuracy: 0.9933\n",
      "Epoch 6/20\n",
      "131/131 [==============================] - 43s 327ms/step - loss: 0.1817 - accuracy: 0.9291 - val_loss: 0.0360 - val_accuracy: 0.9924\n",
      "Epoch 7/20\n",
      "131/131 [==============================] - 43s 325ms/step - loss: 0.1811 - accuracy: 0.9277 - val_loss: 0.0305 - val_accuracy: 0.9924\n",
      "Epoch 8/20\n",
      "131/131 [==============================] - 43s 328ms/step - loss: 0.1626 - accuracy: 0.9370 - val_loss: 0.0335 - val_accuracy: 0.9924\n",
      "Epoch 9/20\n",
      "131/131 [==============================] - 43s 328ms/step - loss: 0.1470 - accuracy: 0.9458 - val_loss: 0.0356 - val_accuracy: 0.9857\n",
      "Epoch 10/20\n",
      "131/131 [==============================] - 43s 327ms/step - loss: 0.1386 - accuracy: 0.9520 - val_loss: 0.0322 - val_accuracy: 0.9943\n",
      "Epoch 11/20\n",
      "131/131 [==============================] - 43s 327ms/step - loss: 0.1187 - accuracy: 0.9597 - val_loss: 0.0444 - val_accuracy: 0.9914\n",
      "Epoch 12/20\n",
      "131/131 [==============================] - 43s 326ms/step - loss: 0.1179 - accuracy: 0.9582 - val_loss: 0.0290 - val_accuracy: 0.9943\n",
      "Epoch 13/20\n",
      "131/131 [==============================] - 42s 322ms/step - loss: 0.1061 - accuracy: 0.9640 - val_loss: 0.0390 - val_accuracy: 0.9914\n",
      "Epoch 14/20\n",
      "131/131 [==============================] - 42s 323ms/step - loss: 0.0910 - accuracy: 0.9675 - val_loss: 0.0239 - val_accuracy: 0.9952\n",
      "Epoch 15/20\n",
      "131/131 [==============================] - 43s 325ms/step - loss: 0.0971 - accuracy: 0.9659 - val_loss: 0.0294 - val_accuracy: 0.9943\n",
      "Epoch 16/20\n",
      "131/131 [==============================] - 42s 318ms/step - loss: 0.0929 - accuracy: 0.9711 - val_loss: 0.0334 - val_accuracy: 0.9933\n",
      "Epoch 17/20\n",
      "131/131 [==============================] - 42s 320ms/step - loss: 0.0893 - accuracy: 0.9721 - val_loss: 0.0349 - val_accuracy: 0.9904\n",
      "Epoch 18/20\n",
      "131/131 [==============================] - 42s 320ms/step - loss: 0.0821 - accuracy: 0.9752 - val_loss: 0.0370 - val_accuracy: 0.9933\n",
      "Epoch 19/20\n",
      "131/131 [==============================] - 42s 317ms/step - loss: 0.0801 - accuracy: 0.9711 - val_loss: 0.0262 - val_accuracy: 0.9952\n",
      "Epoch 20/20\n",
      "131/131 [==============================] - 44s 338ms/step - loss: 0.0918 - accuracy: 0.9702 - val_loss: 0.0344 - val_accuracy: 0.9924\n"
     ]
    },
    {
     "data": {
      "text/plain": [
       "<keras.callbacks.History at 0x2032236ccd0>"
      ]
     },
     "execution_count": 6,
     "metadata": {},
     "output_type": "execute_result"
    }
   ],
   "source": [
    "# Train the model\n",
    "epochs = 20  # You can increase this for better results\n",
    "model.fit(\n",
    "    train_generator,\n",
    "    epochs=epochs,\n",
    "    validation_data=validation_generator,\n",
    ")\n"
   ]
  },
  {
   "cell_type": "code",
   "execution_count": 7,
   "metadata": {},
   "outputs": [],
   "source": [
    "model.save('Model.h5')\n"
   ]
  },
  {
   "cell_type": "code",
   "execution_count": 8,
   "metadata": {},
   "outputs": [
    {
     "name": "stdout",
     "output_type": "stream",
     "text": [
      "33/33 [==============================] - 5s 148ms/step - loss: 0.0203 - accuracy: 0.9971\n",
      "Validation loss: 0.02\n",
      "Validation accuracy: 1.00\n"
     ]
    }
   ],
   "source": [
    "# Evaluate the model (Optional)\n",
    "loss, accuracy = model.evaluate(validation_generator)\n",
    "print(f\"Validation loss: {loss:.2f}\")\n",
    "print(f\"Validation accuracy: {accuracy:.2f}\")\n"
   ]
  },
  {
   "cell_type": "code",
   "execution_count": 9,
   "metadata": {},
   "outputs": [],
   "source": [
    "# Make predictions on new images\n",
    "# Replace 'new_image_path' with the path to your new image\n",
    "new_image_path = 'F:\\Faysal\\WCEBleedGen\\image.png'\n",
    "img = keras.preprocessing.image.load_img(new_image_path, target_size=image_size)\n",
    "img_array = keras.preprocessing.image.img_to_array(img)\n",
    "img_array = tf.expand_dims(img_array, 0)  # Add batch dimension\n"
   ]
  },
  {
   "cell_type": "code",
   "execution_count": 10,
   "metadata": {},
   "outputs": [
    {
     "name": "stdout",
     "output_type": "stream",
     "text": [
      "1/1 [==============================] - 0s 128ms/step\n",
      "Predicted: RBC\n"
     ]
    }
   ],
   "source": [
    "predictions = model.predict(img_array)\n",
    "class_labels = ['Bleeding', 'Non Bleeding']\n",
    "predicted_class = class_labels[predictions.argmax()]\n",
    "print(f\"Predicted: {predicted_class}\")"
   ]
  },
  {
   "cell_type": "code",
   "execution_count": 5,
   "metadata": {},
   "outputs": [
    {
     "name": "stdout",
     "output_type": "stream",
     "text": [
      "1/1 [==============================] - 0s 62ms/step\n",
      "Predicted: Bleeding\n"
     ]
    }
   ],
   "source": [
    "kk = load_model('Model.h5')\n",
    "new_image_path = 'F:\\Faysal\\WCEBleedGen\\imgg.png'\n",
    "img = keras.preprocessing.image.load_img(new_image_path, target_size=image_size)\n",
    "img_array = keras.preprocessing.image.img_to_array(img)\n",
    "img_array = tf.expand_dims(img_array, 0)  # Add batch dimension\n",
    "\n",
    "predictions = kk.predict(img_array)\n",
    "class_labels = ['Bleeding', 'Non Bleeding']\n",
    "predicted_class = class_labels[predictions.argmax()]\n",
    "print(f\"Predicted: {predicted_class}\")"
   ]
  }
 ],
 "metadata": {
  "kernelspec": {
   "display_name": "Python 3",
   "language": "python",
   "name": "python3"
  },
  "language_info": {
   "codemirror_mode": {
    "name": "ipython",
    "version": 3
   },
   "file_extension": ".py",
   "mimetype": "text/x-python",
   "name": "python",
   "nbconvert_exporter": "python",
   "pygments_lexer": "ipython3",
   "version": "3.11.2"
  },
  "orig_nbformat": 4
 },
 "nbformat": 4,
 "nbformat_minor": 2
}
